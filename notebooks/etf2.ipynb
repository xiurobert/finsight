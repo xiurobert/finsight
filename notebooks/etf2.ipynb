{
 "cells": [
  {
   "cell_type": "code",
   "execution_count": 1,
   "outputs": [
    {
     "data": {
      "text/plain": "Date          datetime64[ns]\nClose/Last           float64\nVolume                 int64\nOpen                 float64\nHigh                 float64\nLow                  float64\ndtype: object"
     },
     "execution_count": 1,
     "metadata": {},
     "output_type": "execute_result"
    }
   ],
   "source": [
    "import pandas as pd\n",
    "etfs = \"../data/ndaq-historical/spy-historical.csv\"\n",
    "df = pd.read_csv(etfs)\n",
    "df['Date'] = pd.to_datetime(df['Date'])\n",
    "df.dtypes"
   ],
   "metadata": {
    "collapsed": false,
    "pycharm": {
     "name": "#%%\n"
    }
   }
  },
  {
   "cell_type": "code",
   "execution_count": 24,
   "outputs": [],
   "source": [
    "import torch\n",
    "import torch.nn as nn\n",
    "\n",
    "device = torch.device(\"cuda:0\" if torch.cuda.is_available() else \"cpu\")\n",
    "\n",
    "rnn = nn.LSTM(input_size=1, hidden_size=10, num_layers=2)\n",
    "rnn = rnn.to(device)"
   ],
   "metadata": {
    "collapsed": false,
    "pycharm": {
     "name": "#%%\n"
    }
   }
  },
  {
   "cell_type": "code",
   "execution_count": 3,
   "outputs": [
    {
     "data": {
      "text/plain": "        Date  Close/Last     Volume    Open      High     Low\n0 2022-04-25      428.51  119647700  423.67  428.6900  418.84\n1 2022-04-22      426.04  132471800  436.91  438.0825  425.44\n2 2022-04-21      438.06   85417330  448.54  450.0100  437.10\n3 2022-04-20      444.71   65224450  446.92  447.5700  443.48\n4 2022-04-19      445.04   77821010  437.86  445.8000  437.68",
      "text/html": "<div>\n<style scoped>\n    .dataframe tbody tr th:only-of-type {\n        vertical-align: middle;\n    }\n\n    .dataframe tbody tr th {\n        vertical-align: top;\n    }\n\n    .dataframe thead th {\n        text-align: right;\n    }\n</style>\n<table border=\"1\" class=\"dataframe\">\n  <thead>\n    <tr style=\"text-align: right;\">\n      <th></th>\n      <th>Date</th>\n      <th>Close/Last</th>\n      <th>Volume</th>\n      <th>Open</th>\n      <th>High</th>\n      <th>Low</th>\n    </tr>\n  </thead>\n  <tbody>\n    <tr>\n      <th>0</th>\n      <td>2022-04-25</td>\n      <td>428.51</td>\n      <td>119647700</td>\n      <td>423.67</td>\n      <td>428.6900</td>\n      <td>418.84</td>\n    </tr>\n    <tr>\n      <th>1</th>\n      <td>2022-04-22</td>\n      <td>426.04</td>\n      <td>132471800</td>\n      <td>436.91</td>\n      <td>438.0825</td>\n      <td>425.44</td>\n    </tr>\n    <tr>\n      <th>2</th>\n      <td>2022-04-21</td>\n      <td>438.06</td>\n      <td>85417330</td>\n      <td>448.54</td>\n      <td>450.0100</td>\n      <td>437.10</td>\n    </tr>\n    <tr>\n      <th>3</th>\n      <td>2022-04-20</td>\n      <td>444.71</td>\n      <td>65224450</td>\n      <td>446.92</td>\n      <td>447.5700</td>\n      <td>443.48</td>\n    </tr>\n    <tr>\n      <th>4</th>\n      <td>2022-04-19</td>\n      <td>445.04</td>\n      <td>77821010</td>\n      <td>437.86</td>\n      <td>445.8000</td>\n      <td>437.68</td>\n    </tr>\n  </tbody>\n</table>\n</div>"
     },
     "execution_count": 3,
     "metadata": {},
     "output_type": "execute_result"
    }
   ],
   "source": [
    "df.head()"
   ],
   "metadata": {
    "collapsed": false,
    "pycharm": {
     "name": "#%%\n"
    }
   }
  },
  {
   "cell_type": "code",
   "execution_count": 4,
   "outputs": [
    {
     "data": {
      "text/plain": "           Date  Close/Last     Volume    Open    High     Low\n2511 2012-05-02     140.325  120969500  139.92  140.46  139.46\n2512 2012-05-01     140.740  138695300  139.79  141.66  139.63\n2513 2012-04-30     139.870  114987800  140.11  140.21  139.49\n2514 2012-04-27     140.390  123858100  140.58  140.79  139.80\n2515 2012-04-26     140.160  135323000  138.89  140.32  138.81",
      "text/html": "<div>\n<style scoped>\n    .dataframe tbody tr th:only-of-type {\n        vertical-align: middle;\n    }\n\n    .dataframe tbody tr th {\n        vertical-align: top;\n    }\n\n    .dataframe thead th {\n        text-align: right;\n    }\n</style>\n<table border=\"1\" class=\"dataframe\">\n  <thead>\n    <tr style=\"text-align: right;\">\n      <th></th>\n      <th>Date</th>\n      <th>Close/Last</th>\n      <th>Volume</th>\n      <th>Open</th>\n      <th>High</th>\n      <th>Low</th>\n    </tr>\n  </thead>\n  <tbody>\n    <tr>\n      <th>2511</th>\n      <td>2012-05-02</td>\n      <td>140.325</td>\n      <td>120969500</td>\n      <td>139.92</td>\n      <td>140.46</td>\n      <td>139.46</td>\n    </tr>\n    <tr>\n      <th>2512</th>\n      <td>2012-05-01</td>\n      <td>140.740</td>\n      <td>138695300</td>\n      <td>139.79</td>\n      <td>141.66</td>\n      <td>139.63</td>\n    </tr>\n    <tr>\n      <th>2513</th>\n      <td>2012-04-30</td>\n      <td>139.870</td>\n      <td>114987800</td>\n      <td>140.11</td>\n      <td>140.21</td>\n      <td>139.49</td>\n    </tr>\n    <tr>\n      <th>2514</th>\n      <td>2012-04-27</td>\n      <td>140.390</td>\n      <td>123858100</td>\n      <td>140.58</td>\n      <td>140.79</td>\n      <td>139.80</td>\n    </tr>\n    <tr>\n      <th>2515</th>\n      <td>2012-04-26</td>\n      <td>140.160</td>\n      <td>135323000</td>\n      <td>138.89</td>\n      <td>140.32</td>\n      <td>138.81</td>\n    </tr>\n  </tbody>\n</table>\n</div>"
     },
     "execution_count": 4,
     "metadata": {},
     "output_type": "execute_result"
    }
   ],
   "source": [
    "df.tail()"
   ],
   "metadata": {
    "collapsed": false,
    "pycharm": {
     "name": "#%%\n"
    }
   }
  },
  {
   "cell_type": "code",
   "execution_count": 5,
   "outputs": [],
   "source": [
    "# sort by date\n",
    "df = df.sort_values(by='Date')"
   ],
   "metadata": {
    "collapsed": false,
    "pycharm": {
     "name": "#%%\n"
    }
   }
  },
  {
   "cell_type": "code",
   "execution_count": 8,
   "outputs": [
    {
     "data": {
      "text/plain": "           Date  Close/Last     Volume    Open      High     Low\n2515 2012-04-26     140.160  135323000  138.89  140.3200  138.81\n2514 2012-04-27     140.390  123858100  140.58  140.7900  139.80\n2513 2012-04-30     139.870  114987800  140.11  140.2100  139.49\n2512 2012-05-01     140.740  138695300  139.79  141.6600  139.63\n2511 2012-05-02     140.325  120969500  139.92  140.4600  139.46\n...         ...         ...        ...     ...       ...     ...\n4    2022-04-19     445.040   77821010  437.86  445.8000  437.68\n3    2022-04-20     444.710   65224450  446.92  447.5700  443.48\n2    2022-04-21     438.060   85417330  448.54  450.0100  437.10\n1    2022-04-22     426.040  132471800  436.91  438.0825  425.44\n0    2022-04-25     428.510  119647700  423.67  428.6900  418.84\n\n[2516 rows x 6 columns]",
      "text/html": "<div>\n<style scoped>\n    .dataframe tbody tr th:only-of-type {\n        vertical-align: middle;\n    }\n\n    .dataframe tbody tr th {\n        vertical-align: top;\n    }\n\n    .dataframe thead th {\n        text-align: right;\n    }\n</style>\n<table border=\"1\" class=\"dataframe\">\n  <thead>\n    <tr style=\"text-align: right;\">\n      <th></th>\n      <th>Date</th>\n      <th>Close/Last</th>\n      <th>Volume</th>\n      <th>Open</th>\n      <th>High</th>\n      <th>Low</th>\n    </tr>\n  </thead>\n  <tbody>\n    <tr>\n      <th>2515</th>\n      <td>2012-04-26</td>\n      <td>140.160</td>\n      <td>135323000</td>\n      <td>138.89</td>\n      <td>140.3200</td>\n      <td>138.81</td>\n    </tr>\n    <tr>\n      <th>2514</th>\n      <td>2012-04-27</td>\n      <td>140.390</td>\n      <td>123858100</td>\n      <td>140.58</td>\n      <td>140.7900</td>\n      <td>139.80</td>\n    </tr>\n    <tr>\n      <th>2513</th>\n      <td>2012-04-30</td>\n      <td>139.870</td>\n      <td>114987800</td>\n      <td>140.11</td>\n      <td>140.2100</td>\n      <td>139.49</td>\n    </tr>\n    <tr>\n      <th>2512</th>\n      <td>2012-05-01</td>\n      <td>140.740</td>\n      <td>138695300</td>\n      <td>139.79</td>\n      <td>141.6600</td>\n      <td>139.63</td>\n    </tr>\n    <tr>\n      <th>2511</th>\n      <td>2012-05-02</td>\n      <td>140.325</td>\n      <td>120969500</td>\n      <td>139.92</td>\n      <td>140.4600</td>\n      <td>139.46</td>\n    </tr>\n    <tr>\n      <th>...</th>\n      <td>...</td>\n      <td>...</td>\n      <td>...</td>\n      <td>...</td>\n      <td>...</td>\n      <td>...</td>\n    </tr>\n    <tr>\n      <th>4</th>\n      <td>2022-04-19</td>\n      <td>445.040</td>\n      <td>77821010</td>\n      <td>437.86</td>\n      <td>445.8000</td>\n      <td>437.68</td>\n    </tr>\n    <tr>\n      <th>3</th>\n      <td>2022-04-20</td>\n      <td>444.710</td>\n      <td>65224450</td>\n      <td>446.92</td>\n      <td>447.5700</td>\n      <td>443.48</td>\n    </tr>\n    <tr>\n      <th>2</th>\n      <td>2022-04-21</td>\n      <td>438.060</td>\n      <td>85417330</td>\n      <td>448.54</td>\n      <td>450.0100</td>\n      <td>437.10</td>\n    </tr>\n    <tr>\n      <th>1</th>\n      <td>2022-04-22</td>\n      <td>426.040</td>\n      <td>132471800</td>\n      <td>436.91</td>\n      <td>438.0825</td>\n      <td>425.44</td>\n    </tr>\n    <tr>\n      <th>0</th>\n      <td>2022-04-25</td>\n      <td>428.510</td>\n      <td>119647700</td>\n      <td>423.67</td>\n      <td>428.6900</td>\n      <td>418.84</td>\n    </tr>\n  </tbody>\n</table>\n<p>2516 rows × 6 columns</p>\n</div>"
     },
     "execution_count": 8,
     "metadata": {},
     "output_type": "execute_result"
    }
   ],
   "source": [
    "df"
   ],
   "metadata": {
    "collapsed": false,
    "pycharm": {
     "name": "#%%\n"
    }
   }
  },
  {
   "cell_type": "code",
   "execution_count": 14,
   "outputs": [],
   "source": [
    "x = df.iloc[0:10]['Open']\n",
    "y = df.iloc[0:10]['Close/Last']"
   ],
   "metadata": {
    "collapsed": false,
    "pycharm": {
     "name": "#%%\n"
    }
   }
  },
  {
   "cell_type": "code",
   "execution_count": 20,
   "outputs": [],
   "source": [
    "x = torch.tensor(list(x), dtype=torch.float32)\n",
    "y = torch.tensor(list(y), dtype=torch.float32)"
   ],
   "metadata": {
    "collapsed": false,
    "pycharm": {
     "name": "#%%\n"
    }
   }
  },
  {
   "cell_type": "code",
   "execution_count": null,
   "outputs": [],
   "source": [],
   "metadata": {
    "collapsed": false,
    "pycharm": {
     "name": "#%%\n"
    }
   }
  }
 ],
 "metadata": {
  "kernelspec": {
   "display_name": "Python 3",
   "language": "python",
   "name": "python3"
  },
  "language_info": {
   "codemirror_mode": {
    "name": "ipython",
    "version": 2
   },
   "file_extension": ".py",
   "mimetype": "text/x-python",
   "name": "python",
   "nbconvert_exporter": "python",
   "pygments_lexer": "ipython2",
   "version": "2.7.6"
  }
 },
 "nbformat": 4,
 "nbformat_minor": 0
}